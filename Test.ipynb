{
 "cells": [
  {
   "cell_type": "code",
   "execution_count": 1,
   "id": "6fffaef4-e135-4fc5-ba83-d96ac9f5be5b",
   "metadata": {},
   "outputs": [
    {
     "name": "stdout",
     "output_type": "stream",
     "text": [
      "base_url https://cloudmatica.com/ollama model mistral\n"
     ]
    }
   ],
   "source": [
    "from ollama_client import call_ollama\n",
    "result = call_ollama(model='llama3')"
   ]
  },
  {
   "cell_type": "code",
   "execution_count": 2,
   "id": "a75e96c9-a6aa-48dc-82de-a04266e6998c",
   "metadata": {
    "editable": true,
    "slideshow": {
     "slide_type": ""
    },
    "tags": []
   },
   "outputs": [],
   "source": [
    "from langchain_community.chat_models.ollama import ChatOllama\n",
    "from langchain_core.output_parsers.string import StrOutputParser\n",
    "chat = ChatOllama(base_url='https://cloudmatica.com/ollama', model='llama3')\n",
    "chain = chat | StrOutputParser()"
   ]
  },
  {
   "cell_type": "code",
   "execution_count": 3,
   "id": "be37084a-9b4d-4a4a-a375-5fc00068d3af",
   "metadata": {},
   "outputs": [
    {
     "data": {
      "text/plain": [
       "\"That's a clever question!\\n\\nThe answer is: A Pinecone!\\n\\nPinecones are the reproductive structures of pine trees, and they're small enough to fit comfortably in the palm of one's hand.\""
      ]
     },
     "execution_count": 3,
     "metadata": {},
     "output_type": "execute_result"
    }
   ],
   "source": [
    "chain.invoke('What tree fits in your hand')"
   ]
  },
  {
   "cell_type": "markdown",
   "id": "fe85315a-0d8a-4501-b102-ba62c326aa3e",
   "metadata": {},
   "source": [
    "### parse_email"
   ]
  },
  {
   "cell_type": "code",
   "execution_count": 10,
   "id": "5da65d99-77b1-4932-8d22-a9573bc23640",
   "metadata": {},
   "outputs": [],
   "source": [
    "from process_email import parse_email"
   ]
  },
  {
   "cell_type": "code",
   "execution_count": 11,
   "id": "349cfd34-186f-479c-97c4-a9c01f1b29e3",
   "metadata": {},
   "outputs": [
    {
     "data": {
      "text/plain": [
       "{'sender': 'Vijay Balasubramaniam <vbalasu@gmail.com>',\n",
       " 'subject': 'Answer the following riddle',\n",
       " 'body': 'What tree fits in your hand?\\r\\n'}"
      ]
     },
     "execution_count": 11,
     "metadata": {},
     "output_type": "execute_result"
    }
   ],
   "source": [
    "parse_email(bucket_name='cloudmatica', object_key='agent/8s3hpe8rretub89r5ndpd66k9img34q46lqufm81')"
   ]
  },
  {
   "cell_type": "code",
   "execution_count": null,
   "id": "9cc1c3dc-feaf-49d8-b303-0fded22a2db9",
   "metadata": {},
   "outputs": [],
   "source": []
  }
 ],
 "metadata": {
  "kernelspec": {
   "display_name": "email-agent",
   "language": "python",
   "name": "email-agent"
  },
  "language_info": {
   "codemirror_mode": {
    "name": "ipython",
    "version": 3
   },
   "file_extension": ".py",
   "mimetype": "text/x-python",
   "name": "python",
   "nbconvert_exporter": "python",
   "pygments_lexer": "ipython3",
   "version": "3.11.5"
  }
 },
 "nbformat": 4,
 "nbformat_minor": 5
}
