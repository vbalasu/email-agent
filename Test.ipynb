{
 "cells": [
  {
   "cell_type": "markdown",
   "id": "fe85315a-0d8a-4501-b102-ba62c326aa3e",
   "metadata": {},
   "source": [
    "### parse_email"
   ]
  },
  {
   "cell_type": "code",
   "execution_count": 1,
   "id": "5da65d99-77b1-4932-8d22-a9573bc23640",
   "metadata": {},
   "outputs": [],
   "source": [
    "from chalicelib.process_email import parse_email"
   ]
  },
  {
   "cell_type": "code",
   "execution_count": 2,
   "id": "349cfd34-186f-479c-97c4-a9c01f1b29e3",
   "metadata": {},
   "outputs": [
    {
     "data": {
      "text/plain": [
       "{'sender': 'Vijay Balasubramaniam <vbalasu@gmail.com>',\n",
       " 'subject': 'Write a paragraph about blockchain technology',\n",
       " 'body': '\\r\\n'}"
      ]
     },
     "execution_count": 2,
     "metadata": {},
     "output_type": "execute_result"
    }
   ],
   "source": [
    "incoming = parse_email(bucket_name='cloudmatica', object_key='agent/rdc7jtptlhvhc5ao77f1e01i5b5mfbr490forco1')\n",
    "incoming"
   ]
  },
  {
   "cell_type": "code",
   "execution_count": 3,
   "id": "9cc1c3dc-feaf-49d8-b303-0fded22a2db9",
   "metadata": {},
   "outputs": [
    {
     "name": "stdout",
     "output_type": "stream",
     "text": [
      "Write a paragraph about blockchain technology\n",
      "\n",
      "\n"
     ]
    }
   ],
   "source": [
    "prompt = f'{incoming[\"subject\"]}\\n{incoming[\"body\"]}'\n",
    "print(prompt)"
   ]
  },
  {
   "cell_type": "markdown",
   "id": "5bd0d605-b47a-447e-ad1f-4101431ba34e",
   "metadata": {},
   "source": [
    "### call_ollama"
   ]
  },
  {
   "cell_type": "code",
   "execution_count": 4,
   "id": "0742d785-a27b-4997-adf6-a05eb6c413b2",
   "metadata": {},
   "outputs": [],
   "source": [
    "from chalicelib.ollama_client import call_ollama"
   ]
  },
  {
   "cell_type": "code",
   "execution_count": 5,
   "id": "a5084750-8d33-4c6d-9d56-ad2275b2764c",
   "metadata": {},
   "outputs": [
    {
     "name": "stdout",
     "output_type": "stream",
     "text": [
      "Blockchain technology is a decentralized, digital ledger system that enables secure and transparent transactions without the need for intermediaries. At its core, a blockchain is a chain of blocks, each containing data and a unique code that links it to the previous block, creating an unalterable record. This distributed network allows multiple parties to verify and validate transactions, ensuring their accuracy and integrity. The immutability and transparency of blockchain technology make it ideal for applications such as secure financial transactions, supply chain management, and digital identity verification. Additionally, the decentralized nature of blockchain means that no single entity controls or regulates the network, making it a promising solution for creating trustless systems that operate independently of traditional authorities.\n"
     ]
    }
   ],
   "source": [
    "output = call_ollama(prompt=prompt)\n",
    "print(output)"
   ]
  },
  {
   "cell_type": "markdown",
   "id": "c6ca5876-adc4-4395-81a4-e90b2e5af6bc",
   "metadata": {},
   "source": [
    "### send_email"
   ]
  },
  {
   "cell_type": "code",
   "execution_count": 6,
   "id": "304000dc-af54-4d8d-85e9-cacc12d261fc",
   "metadata": {},
   "outputs": [],
   "source": [
    "from chalicelib.process_email import send_email"
   ]
  },
  {
   "cell_type": "code",
   "execution_count": 7,
   "id": "3a5ac3c7-c8dd-42be-b29f-a0711494abbc",
   "metadata": {},
   "outputs": [
    {
     "data": {
      "text/plain": [
       "{'MessageId': '010001904700f7dd-83ddd4e6-3a23-4a8d-8900-82a6df427c8b-000000',\n",
       " 'ResponseMetadata': {'RequestId': 'd3f8c2ac-92d6-459a-83d7-8b55c76c5af0',\n",
       "  'HTTPStatusCode': 200,\n",
       "  'HTTPHeaders': {'date': 'Sun, 23 Jun 2024 21:29:24 GMT',\n",
       "   'content-type': 'text/xml',\n",
       "   'content-length': '326',\n",
       "   'connection': 'keep-alive',\n",
       "   'x-amzn-requestid': 'd3f8c2ac-92d6-459a-83d7-8b55c76c5af0'},\n",
       "  'RetryAttempts': 0}}"
      ]
     },
     "execution_count": 7,
     "metadata": {},
     "output_type": "execute_result"
    }
   ],
   "source": [
    "send_email(sender='Cloudmatica Agent <agent@cloudmatica.com>', recipient=incoming['sender'], \n",
    "           subject='Re: ' + incoming['subject'], body=output)"
   ]
  },
  {
   "cell_type": "markdown",
   "id": "dba14b18-3ce4-4d35-8d7c-5d591e6d9a38",
   "metadata": {},
   "source": [
    "### app.process_s3_event"
   ]
  },
  {
   "cell_type": "code",
   "execution_count": 3,
   "id": "e4505e15-7cfa-49e5-b60e-997e9814f2cf",
   "metadata": {},
   "outputs": [],
   "source": [
    "class S3Event:\n",
    "    def __init__(self, bucket='my-bucket', key='my-key'):\n",
    "        self.bucket = bucket\n",
    "        self.key = key\n",
    "    def to_dict(self):\n",
    "        return {'bucket': self.bucket, 'key': self.key}\n",
    "\n",
    "event = S3Event(bucket='cloudmatica', key='agent/14c8tfuj0nbeg6r297496ggqkd1es9nlumuiu481')"
   ]
  },
  {
   "cell_type": "code",
   "execution_count": 4,
   "id": "aa354f79-cfea-4f0f-9a05-c56a418875cf",
   "metadata": {},
   "outputs": [
    {
     "name": "stdout",
     "output_type": "stream",
     "text": [
      "{'bucket': 'cloudmatica', 'key': 'agent/14c8tfuj0nbeg6r297496ggqkd1es9nlumuiu481'}\n"
     ]
    }
   ],
   "source": [
    "from app import process_s3_event\n",
    "result = process_s3_event(event)"
   ]
  },
  {
   "cell_type": "code",
   "execution_count": 5,
   "id": "63df35d1-8964-41b8-90ea-d550618342ed",
   "metadata": {},
   "outputs": [
    {
     "data": {
      "text/plain": [
       "{'MessageId': '01000190476900f2-8c6b6c5d-f0a1-4f8b-8079-80132c8fd907-000000',\n",
       " 'ResponseMetadata': {'RequestId': '3a5bbcb8-c7d4-4f1c-9a58-949e2b062f70',\n",
       "  'HTTPStatusCode': 200,\n",
       "  'HTTPHeaders': {'date': 'Sun, 23 Jun 2024 23:23:02 GMT',\n",
       "   'content-type': 'text/xml',\n",
       "   'content-length': '326',\n",
       "   'connection': 'keep-alive',\n",
       "   'x-amzn-requestid': '3a5bbcb8-c7d4-4f1c-9a58-949e2b062f70'},\n",
       "  'RetryAttempts': 0}}"
      ]
     },
     "execution_count": 5,
     "metadata": {},
     "output_type": "execute_result"
    }
   ],
   "source": [
    "result"
   ]
  },
  {
   "cell_type": "code",
   "execution_count": null,
   "id": "dba519cf-138f-4744-9cbe-003536a92b49",
   "metadata": {},
   "outputs": [],
   "source": []
  }
 ],
 "metadata": {
  "kernelspec": {
   "display_name": "email-agent",
   "language": "python",
   "name": "email-agent"
  },
  "language_info": {
   "codemirror_mode": {
    "name": "ipython",
    "version": 3
   },
   "file_extension": ".py",
   "mimetype": "text/x-python",
   "name": "python",
   "nbconvert_exporter": "python",
   "pygments_lexer": "ipython3",
   "version": "3.11.5"
  }
 },
 "nbformat": 4,
 "nbformat_minor": 5
}
